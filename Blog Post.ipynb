{
 "cells": [
  {
   "cell_type": "code",
   "execution_count": 1,
   "metadata": {},
   "outputs": [],
   "source": [
    "import seaborn as sns\n",
    "import pandas as pd\n",
    "import plotly as plt\n",
    "import matplotlib.pyplot as plt\n",
    "import numpy as np\n",
    "\n",
    "from sklearn.linear_model import LinearRegression\n",
    "from sklearn.model_selection import train_test_split\n",
    "from sklearn.metrics import r2_score, mean_squared_error\n",
    "import AllTogether as t\n",
    "%matplotlib inline"
   ]
  },
  {
   "cell_type": "code",
   "execution_count": 2,
   "metadata": {},
   "outputs": [],
   "source": [
    "# These functions will be reused throughts this exploration\n",
    "\n",
    "def generate_sns_box_plot(\n",
    "    df, x_column_name, y_column_name,\n",
    "    title=\"\", x_axis_label=None, y_axis_label=None,\n",
    "    min_y =None, max_y= None, x_dim = 45, y_dim = 7):\n",
    "    \n",
    "\n",
    "    max_y, min_y = _get_min_max_y(df, y_column_name, max_y, min_y)\n",
    "\n",
    "    a4_dims = (x_dim, y_dim)\n",
    "    fig, ax = plt.subplots(figsize=a4_dims)\n",
    "\n",
    "    if y_axis_label is not None:\n",
    "        plt.ylabel(y_axis_label)\n",
    "\n",
    "    if x_axis_label is not None:\n",
    "        plt.xlabel(x_axis_label)\n",
    "\n",
    "\n",
    "    ax.set(ylim=(min_y, max_y))\n",
    "    ax = sns.boxplot(x=x_column_name, y=y_column_name, data=df)\n",
    "    #ax = sns.swarmplot(x=x_column_name, y=y_column_name, data=df, color=\".05\",size=2 )\n",
    "\n",
    "\n",
    "    return ax\n",
    "\n",
    "\n",
    "\n",
    "def _get_min_max_y(df, y_col_name, max_y, min_y, stddev_multiplier=1 / 3):\n",
    "\n",
    "    if (max_y == None):\n",
    "        max_y = df[y_col_name].max() + df[y_col_name].std() * stddev_multiplier\n",
    "\n",
    "    if (min_y == None):\n",
    "        min_y = df[y_col_name].min() - df[y_col_name].std() * stddev_multiplier\n",
    "\n",
    "    return max_y, min_y\n",
    "\n",
    "\n",
    "def filter_dataframe_by_values_of_interest(df,x_var,var_list):\n",
    "    df_list = []\n",
    "    for var in var_list:\n",
    "        new_df = df[df[x_var]==var]\n",
    "        if(len(new_df)>0):\n",
    "            df_list.append(new_df)\n",
    "        else:\n",
    "            print(\"Didn't find values matching: \" + var)\n",
    "    df_ret = pd.concat(df_list,ignore_index=True)\n",
    "    \n",
    "    return df_ret\n",
    "\n",
    "def plot_variables_of_interest(df,x_var,y_values,var_list, x_dim = 10, y_dim = 10):\n",
    "    \n",
    "    df_ret = filter_dataframe_by_values_of_interest(df,x_var,var_list,)\n",
    "    \n",
    "    generate_sns_box_plot(df_ret,x_var, y_values, x_dim = x_dim, y_dim = y_dim)"
   ]
  },
  {
   "cell_type": "markdown",
   "metadata": {},
   "source": [
    "### Business Questions\n",
    "\n",
    "All questions asked will be asked for respondents from the United States :\n",
    "1. How much does you level of education contribute to your salary?\n",
    "2. How much does your undergrad major contribute to your salary?\n",
    "3. How much does race and gender contribute to salary?\n",
    "4. What factors in general contribute to salary the most?\n",
    "\n",
    "\n",
    "4. How does pay differ by company size?\n",
    "5. How does your education relate with job satisfaction / career satisfaction? \n",
    "6. What percentage of people get a doctoral degree by country. "
   ]
  },
  {
   "cell_type": "markdown",
   "metadata": {},
   "source": [
    "## Step 1: Gather Data"
   ]
  },
  {
   "cell_type": "code",
   "execution_count": 3,
   "metadata": {},
   "outputs": [],
   "source": [
    "df_blog = pd.read_csv(\"data_input/survey_results_public.csv\")"
   ]
  },
  {
   "cell_type": "markdown",
   "metadata": {},
   "source": [
    "## Step 2: Assess Data"
   ]
  },
  {
   "cell_type": "code",
   "execution_count": 4,
   "metadata": {},
   "outputs": [
    {
     "name": "stdout",
     "output_type": "stream",
     "text": [
      "Percent of Salary Nulls: 74.91632938978829\n",
      "Percent of Country Nulls: 0.0\n",
      "Percent of Formal Education Nulls: 0.0\n",
      "Percent of MajorUndergrad Nulls: 16.638776463262765\n",
      "Percent of Gender Nulls: 31.804561021170606\n",
      "Percent of Race Nulls: 35.72345890410959\n"
     ]
    }
   ],
   "source": [
    "# As one of our critical variables is Salary, let's check for the number of nulls it has:\n",
    "print(\"Percent of Salary Nulls: \" + str(np.sum(df_blog[\"Salary\"].isnull())/len(df_blog) * 100))\n",
    "# Every response has a value for country, which means we don't have to handle nulls for this\n",
    "print(\"Percent of Country Nulls: \" + str(np.sum(df_blog[\"Country\"].isnull())/len(df_blog) * 100))\n",
    "\n",
    "# The following will be treated individually as we progress through our analysis \n",
    "print(\"Percent of Formal Education Nulls: \" + str(np.sum(df_blog[\"FormalEducation\"].isnull())/len(df_blog) * 100))\n",
    "print(\"Percent of MajorUndergrad Nulls: \" + str(np.sum(df_blog[\"MajorUndergrad\"].isnull())/len(df_blog) * 100))\n",
    "print(\"Percent of Gender Nulls: \" + str(np.sum(df_blog[\"Gender\"].isnull())/len(df_blog) * 100))\n",
    "print(\"Percent of Race Nulls: \" + str(np.sum(df_blog[\"Race\"].isnull())/len(df_blog) * 100))\n"
   ]
  },
  {
   "cell_type": "markdown",
   "metadata": {},
   "source": [
    "## Step 3: Clean Data"
   ]
  },
  {
   "cell_type": "code",
   "execution_count": 5,
   "metadata": {},
   "outputs": [
    {
     "name": "stdout",
     "output_type": "stream",
     "text": [
      "Updated Percent of Salary Nulls: 0.0\n"
     ]
    }
   ],
   "source": [
    "# We only care about responses that have a non null salary, so let's filter for that\n",
    "df_blog = df_blog[~ df_blog[\"Salary\"].isnull()]\n",
    "print(\"Updated Percent of Salary Nulls: \" + str(np.sum(df_blog[\"Salary\"].isnull())/len(df_blog) * 100))"
   ]
  },
  {
   "cell_type": "markdown",
   "metadata": {},
   "source": [
    "## Step 4: Analyze\n",
    "### Q1:  How much does you level of education correlate with salary satisfaction?"
   ]
  },
  {
   "cell_type": "code",
   "execution_count": 6,
   "metadata": {},
   "outputs": [
    {
     "data": {
      "text/plain": [
       "Bachelor's degree                                                    60.142819\n",
       "Some college/university study without earning a bachelor's degree    17.561492\n",
       "Master's degree                                                      16.530019\n",
       "Secondary school                                                      2.327427\n",
       "Doctoral degree                                                       2.327427\n",
       "Primary/elementary school                                             0.476065\n",
       "Professional degree                                                   0.290928\n",
       "I never completed any formal education                                0.211584\n",
       "I prefer not to answer                                                0.132240\n",
       "Name: FormalEducation, dtype: float64"
      ]
     },
     "execution_count": 6,
     "metadata": {},
     "output_type": "execute_result"
    }
   ],
   "source": [
    "df_us = df_blog[df_blog[\"Country\"] == \"United States\"]\n",
    "# Filter out all null values for education\n",
    "df_us_edu = df_us[~ df_us[\"Salary\"].isnull()]\n",
    "# Get percentages by education level\n",
    "df_us_edu[\"FormalEducation\"].value_counts() / len(df_us_edu[\"FormalEducation\"]) * 100"
   ]
  },
  {
   "cell_type": "code",
   "execution_count": 10,
   "metadata": {},
   "outputs": [
    {
     "data": {
      "image/png": "[encoded data removed]",
      "text/plain": [
       "<Figure size 1800x360 with 1 Axes>"
      ]
     },
     "metadata": {
      "needs_background": "light"
     },
     "output_type": "display_data"
    }
   ],
   "source": [
    "# We only care about the following variables\n",
    "education_list= [\"Secondary school\",\"Some college/university study without earning a bachelor's degree\",\n",
    "                 \"Bachelor's degree\",\"Master's degree\",\"Doctoral degree\"]\n",
    "\n",
    "# We can see a clear trend with salary and level of education\n",
    "plot_variables_of_interest(df_us_edu,\"FormalEducation\",\"Salary\",education_list,x_dim = 25,y_dim=5)"
   ]
  },
  {
   "cell_type": "markdown",
   "metadata": {},
   "source": [
    "### Q2: How much does your undergrad major correlate to your salary?"
   ]
  },
  {
   "cell_type": "code",
   "execution_count": 8,
   "metadata": {},
   "outputs": [
    {
     "data": {
      "text/plain": [
       "Computer science or software engineering                        50.559956\n",
       "Computer engineering or electrical/electronics engineering       8.549577\n",
       "A natural science                                                4.944004\n",
       "Computer programming or Web development                          4.862060\n",
       "A non-computer-focused engineering discipline                    3.878722\n",
       "Mathematics or statistics                                        3.769462\n",
       "A humanities discipline                                          3.605572\n",
       "Fine arts or performing arts                                     3.168533\n",
       "Information technology, networking, or system administration     3.086588\n",
       "Something else                                                   3.031958\n",
       "A business discipline                                            2.895384\n",
       "Management information systems                                   2.540290\n",
       "A social science                                                 2.294455\n",
       "I never declared a major                                         1.720841\n",
       "Psychology                                                       0.901393\n",
       "A health science                                                 0.191205\n",
       "Name: MajorUndergrad, dtype: float64"
      ]
     },
     "execution_count": 8,
     "metadata": {},
     "output_type": "execute_result"
    }
   ],
   "source": [
    "# remove null values for undergrad major\n",
    "df_us_major = df_us[~ df_us[\"MajorUndergrad\"].isnull()] \n",
    "# Get an understanding of what responders studies in undergrad\n",
    "df_us_major[\"MajorUndergrad\"].value_counts() / len(df_us_major[\"MajorUndergrad\"]) * 100"
   ]
  },
  {
   "cell_type": "code",
   "execution_count": 9,
   "metadata": {},
   "outputs": [
    {
     "data": {
      "image/png": "[encoded data removed]",
      "text/plain": [
       "<Figure size 1800x720 with 1 Axes>"
      ]
     },
     "metadata": {
      "needs_background": "light"
     },
     "output_type": "display_data"
    }
   ],
   "source": [
    "# This is the list we care about \n",
    "undergrad_major_list= [\"Computer programming or Web development\",\"Computer science or software engineering\",\n",
    " \"A natural science\",\"Mathematics or statistics\",\"Computer engineering or electrical/electronics engineering\",]\n",
    "\n",
    "\n",
    "plot_variables_of_interest(df_us_major,\"MajorUndergrad\",\"Salary\",undergrad_major_list,x_dim = 25)"
   ]
  },
  {
   "cell_type": "markdown",
   "metadata": {},
   "source": [
    "### Q3: How much does race and gender correlate with salary?"
   ]
  },
  {
   "cell_type": "code",
   "execution_count": 10,
   "metadata": {},
   "outputs": [
    {
     "data": {
      "image/png": "[encoded data removed]",
      "text/plain": [
       "<Figure size 720x720 with 1 Axes>"
      ]
     },
     "metadata": {
      "needs_background": "light"
     },
     "output_type": "display_data"
    }
   ],
   "source": [
    "# remove null values for undergrad major\n",
    "df_us_gender = df_us[~ df_us[\"Gender\"].isnull()] \n",
    "gender_list= [\"Female\",\"Male\",]\n",
    "plot_variables_of_interest(df_us_gender,\"Gender\",\"Salary\",gender_list)"
   ]
  },
  {
   "cell_type": "code",
   "execution_count": 11,
   "metadata": {
    "scrolled": false
   },
   "outputs": [
    {
     "data": {
      "image/png": "[encoded data removed]",
      "text/plain": [
       "<Figure size 1080x720 with 1 Axes>"
      ]
     },
     "metadata": {
      "needs_background": "light"
     },
     "output_type": "display_data"
    }
   ],
   "source": [
    "df_us_race = df_us[~ df_us[\"Race\"].isnull()] \n",
    "r_list = [\"Black or of African descent\",'Hispanic or Latino/Latina', \n",
    "          \"White or of European descent\",\"South Asian\", \"East Asian\"]\n",
    "plot_variables_of_interest(df_us_race,\"Race\",\"Salary\",r_list,x_dim=15)          "
   ]
  },
  {
   "cell_type": "markdown",
   "metadata": {},
   "source": [
    "### Q4: How much do the caterogies described above contribute to salary?"
   ]
  },
  {
   "cell_type": "code",
   "execution_count": 12,
   "metadata": {},
   "outputs": [],
   "source": [
    "def clean_data(df):\n",
    "    '''\n",
    "    INPUT\n",
    "    df - pandas dataframe \n",
    "    \n",
    "    OUTPUT\n",
    "    X - A matrix holding all of the variables you want to consider when predicting the response\n",
    "    y - the corresponding response vector\n",
    "    \n",
    "    This function cleans df using the following steps to produce X and y:\n",
    "    1. Drop all the rows with no salaries\n",
    "    2. Create X as all the columns that are not the Salary column\n",
    "    3. Create y as the Salary column\n",
    "    4. For each numeric variable in X, fill the column with the mean value of the column.\n",
    "    5. Create dummy columns for all the categorical variables in X, drop the original columns\n",
    "    '''\n",
    "    # Drop rows with missing salary values\n",
    "    df = df.dropna(subset=['Salary'], axis=0)\n",
    "    y = df['Salary']\n",
    "\n",
    "    df = df.drop(['Salary'], axis=1)\n",
    "    # Fill numeric columns with the mean\n",
    "    num_vars = df.select_dtypes(include=['float', 'int']).columns\n",
    "    for col in num_vars:\n",
    "        df[col].fillna((df[col].mean()), inplace=True)\n",
    "        \n",
    "    # Dummy the categorical variables\n",
    "    cat_vars = df.select_dtypes(include=['object']).copy().columns\n",
    "    for var in  cat_vars:\n",
    "        # for each cat add dummy var, drop original column\n",
    "        df = pd.concat([df.drop(var, axis=1), pd.get_dummies(df[var], \n",
    "         prefix=var, prefix_sep='_', drop_first=True)], axis=1)\n",
    "    \n",
    "    X = df\n",
    "    return X, y\n",
    "\n",
    "\n"
   ]
  },
  {
   "cell_type": "code",
   "execution_count": 13,
   "metadata": {},
   "outputs": [],
   "source": [
    "df_us_salary_custom = df_us[['Salary','Race','Gender','MajorUndergrad','FormalEducation','YearsCodedJob','CompanyType']]\n",
    "df_us_salary_custom = filter_dataframe_by_values_of_interest(df_us_salary_custom,'Race',r_list)\n",
    "df_us_salary_custom = filter_dataframe_by_values_of_interest(df_us_salary_custom,'Gender',gender_list)\n",
    "df_us_salary_custom = filter_dataframe_by_values_of_interest(df_us_salary_custom,'FormalEducation',education_list)\n",
    "df_us_salary_custom = filter_dataframe_by_values_of_interest(df_us_salary_custom,'MajorUndergrad',undergrad_major_list)\n"
   ]
  },
  {
   "cell_type": "code",
   "execution_count": 14,
   "metadata": {},
   "outputs": [],
   "source": [
    "X, y = clean_data(df_us_salary_custom)"
   ]
  },
  {
   "cell_type": "code",
   "execution_count": 15,
   "metadata": {},
   "outputs": [
    {
     "data": {
      "image/png": "[encoded data removed]",
      "text/plain": [
       "<Figure size 432x288 with 1 Axes>"
      ]
     },
     "metadata": {
      "needs_background": "light"
     },
     "output_type": "display_data"
    }
   ],
   "source": [
    "cutoffs = [1944,1900,1800,1600,1400,1200,1100,1000,100,50,25,5, 4,3, 2, 1]\n",
    "r2_scores_test, r2_scores_train, lm_model, X_train, X_test, y_train, y_test = t.find_optimal_lm_mod(X, y, cutoffs)"
   ]
  },
  {
   "cell_type": "code",
   "execution_count": 16,
   "metadata": {},
   "outputs": [],
   "source": [
    "\n",
    "def coef_weights(coefficients, X_train):\n",
    "    '''\n",
    "    INPUT:\n",
    "    coefficients - the coefficients of the linear model \n",
    "    X_train - the training data, so the column names can be used\n",
    "    OUTPUT:\n",
    "    coefs_df - a dataframe holding the coefficient, estimate, and abs(estimate)\n",
    "\n",
    "    Provides a dataframe that can be used to understand the most influential coefficients\n",
    "    in a linear model by providing the coefficient estimates along with the name of the \n",
    "    variable attached to the coefficient.\n",
    "    '''\n",
    "    coefs_df = pd.DataFrame()\n",
    "    coefs_df['est_int'] = X_train.columns\n",
    "    coefs_df['coefs'] = lm_model.coef_\n",
    "    #coefs_df['abs_coefs'] = np.abs(lm_model.coef_)\n",
    "    coefs_df = coefs_df.sort_values('coefs', ascending=False)\n",
    "    return coefs_df\n",
    "\n"
   ]
  },
  {
   "cell_type": "code",
   "execution_count": 17,
   "metadata": {},
   "outputs": [
    {
     "data": {
      "text/html": [
       "<div>\n",
       "<style scoped>\n",
       "    .dataframe tbody tr th:only-of-type {\n",
       "        vertical-align: middle;\n",
       "    }\n",
       "\n",
       "    .dataframe tbody tr th {\n",
       "        vertical-align: top;\n",
       "    }\n",
       "\n",
       "    .dataframe thead th {\n",
       "        text-align: right;\n",
       "    }\n",
       "</style>\n",
       "<table border=\"1\" class=\"dataframe\">\n",
       "  <thead>\n",
       "    <tr style=\"text-align: right;\">\n",
       "      <th></th>\n",
       "      <th>est_int</th>\n",
       "      <th>coefs</th>\n",
       "    </tr>\n",
       "  </thead>\n",
       "  <tbody>\n",
       "    <tr>\n",
       "      <th>23</th>\n",
       "      <td>YearsCodedJob_20 or more years</td>\n",
       "      <td>53064.638609</td>\n",
       "    </tr>\n",
       "    <tr>\n",
       "      <th>19</th>\n",
       "      <td>YearsCodedJob_17 to 18 years</td>\n",
       "      <td>50626.325660</td>\n",
       "    </tr>\n",
       "    <tr>\n",
       "      <th>21</th>\n",
       "      <td>YearsCodedJob_19 to 20 years</td>\n",
       "      <td>49081.544962</td>\n",
       "    </tr>\n",
       "    <tr>\n",
       "      <th>16</th>\n",
       "      <td>YearsCodedJob_14 to 15 years</td>\n",
       "      <td>44779.675677</td>\n",
       "    </tr>\n",
       "    <tr>\n",
       "      <th>12</th>\n",
       "      <td>YearsCodedJob_10 to 11 years</td>\n",
       "      <td>41842.934138</td>\n",
       "    </tr>\n",
       "    <tr>\n",
       "      <th>14</th>\n",
       "      <td>YearsCodedJob_12 to 13 years</td>\n",
       "      <td>39985.807276</td>\n",
       "    </tr>\n",
       "    <tr>\n",
       "      <th>13</th>\n",
       "      <td>YearsCodedJob_11 to 12 years</td>\n",
       "      <td>39609.121013</td>\n",
       "    </tr>\n",
       "    <tr>\n",
       "      <th>18</th>\n",
       "      <td>YearsCodedJob_16 to 17 years</td>\n",
       "      <td>39195.012798</td>\n",
       "    </tr>\n",
       "    <tr>\n",
       "      <th>17</th>\n",
       "      <td>YearsCodedJob_15 to 16 years</td>\n",
       "      <td>36731.941293</td>\n",
       "    </tr>\n",
       "    <tr>\n",
       "      <th>15</th>\n",
       "      <td>YearsCodedJob_13 to 14 years</td>\n",
       "      <td>35562.749868</td>\n",
       "    </tr>\n",
       "    <tr>\n",
       "      <th>40</th>\n",
       "      <td>CompanyType_Venture-funded startup</td>\n",
       "      <td>34455.747723</td>\n",
       "    </tr>\n",
       "    <tr>\n",
       "      <th>20</th>\n",
       "      <td>YearsCodedJob_18 to 19 years</td>\n",
       "      <td>34170.728218</td>\n",
       "    </tr>\n",
       "    <tr>\n",
       "      <th>29</th>\n",
       "      <td>YearsCodedJob_8 to 9 years</td>\n",
       "      <td>31817.894873</td>\n",
       "    </tr>\n",
       "    <tr>\n",
       "      <th>28</th>\n",
       "      <td>YearsCodedJob_7 to 8 years</td>\n",
       "      <td>26308.383506</td>\n",
       "    </tr>\n",
       "    <tr>\n",
       "      <th>37</th>\n",
       "      <td>CompanyType_Publicly-traded corporation</td>\n",
       "      <td>25922.980360</td>\n",
       "    </tr>\n",
       "    <tr>\n",
       "      <th>27</th>\n",
       "      <td>YearsCodedJob_6 to 7 years</td>\n",
       "      <td>25181.910157</td>\n",
       "    </tr>\n",
       "    <tr>\n",
       "      <th>30</th>\n",
       "      <td>YearsCodedJob_9 to 10 years</td>\n",
       "      <td>24100.501926</td>\n",
       "    </tr>\n",
       "    <tr>\n",
       "      <th>26</th>\n",
       "      <td>YearsCodedJob_5 to 6 years</td>\n",
       "      <td>23270.217403</td>\n",
       "    </tr>\n",
       "    <tr>\n",
       "      <th>9</th>\n",
       "      <td>FormalEducation_Doctoral degree</td>\n",
       "      <td>19871.928670</td>\n",
       "    </tr>\n",
       "    <tr>\n",
       "      <th>33</th>\n",
       "      <td>CompanyType_I prefer not to answer</td>\n",
       "      <td>16584.514303</td>\n",
       "    </tr>\n",
       "    <tr>\n",
       "      <th>36</th>\n",
       "      <td>CompanyType_Privately-held limited company, no...</td>\n",
       "      <td>13801.128644</td>\n",
       "    </tr>\n",
       "    <tr>\n",
       "      <th>35</th>\n",
       "      <td>CompanyType_Pre-series A startup</td>\n",
       "      <td>13402.989915</td>\n",
       "    </tr>\n",
       "    <tr>\n",
       "      <th>25</th>\n",
       "      <td>YearsCodedJob_4 to 5 years</td>\n",
       "      <td>13126.991394</td>\n",
       "    </tr>\n",
       "    <tr>\n",
       "      <th>39</th>\n",
       "      <td>CompanyType_Something else</td>\n",
       "      <td>12954.925376</td>\n",
       "    </tr>\n",
       "    <tr>\n",
       "      <th>10</th>\n",
       "      <td>FormalEducation_Master's degree</td>\n",
       "      <td>7784.656293</td>\n",
       "    </tr>\n",
       "    <tr>\n",
       "      <th>38</th>\n",
       "      <td>CompanyType_Sole proprietorship or partnership...</td>\n",
       "      <td>7543.178878</td>\n",
       "    </tr>\n",
       "    <tr>\n",
       "      <th>24</th>\n",
       "      <td>YearsCodedJob_3 to 4 years</td>\n",
       "      <td>7408.659851</td>\n",
       "    </tr>\n",
       "    <tr>\n",
       "      <th>32</th>\n",
       "      <td>CompanyType_I don't know</td>\n",
       "      <td>6324.356922</td>\n",
       "    </tr>\n",
       "    <tr>\n",
       "      <th>8</th>\n",
       "      <td>MajorUndergrad_Mathematics or statistics</td>\n",
       "      <td>5418.448880</td>\n",
       "    </tr>\n",
       "    <tr>\n",
       "      <th>0</th>\n",
       "      <td>Race_East Asian</td>\n",
       "      <td>4819.536662</td>\n",
       "    </tr>\n",
       "    <tr>\n",
       "      <th>5</th>\n",
       "      <td>MajorUndergrad_Computer engineering or electri...</td>\n",
       "      <td>4561.764069</td>\n",
       "    </tr>\n",
       "    <tr>\n",
       "      <th>7</th>\n",
       "      <td>MajorUndergrad_Computer science or software en...</td>\n",
       "      <td>3971.380869</td>\n",
       "    </tr>\n",
       "    <tr>\n",
       "      <th>34</th>\n",
       "      <td>CompanyType_Non-profit/non-governmental organi...</td>\n",
       "      <td>3027.803636</td>\n",
       "    </tr>\n",
       "    <tr>\n",
       "      <th>22</th>\n",
       "      <td>YearsCodedJob_2 to 3 years</td>\n",
       "      <td>1580.414926</td>\n",
       "    </tr>\n",
       "    <tr>\n",
       "      <th>4</th>\n",
       "      <td>Gender_Male</td>\n",
       "      <td>845.859930</td>\n",
       "    </tr>\n",
       "    <tr>\n",
       "      <th>2</th>\n",
       "      <td>Race_South Asian</td>\n",
       "      <td>681.848046</td>\n",
       "    </tr>\n",
       "    <tr>\n",
       "      <th>31</th>\n",
       "      <td>YearsCodedJob_Less than a year</td>\n",
       "      <td>-4574.750154</td>\n",
       "    </tr>\n",
       "    <tr>\n",
       "      <th>3</th>\n",
       "      <td>Race_White or of European descent</td>\n",
       "      <td>-6273.041425</td>\n",
       "    </tr>\n",
       "    <tr>\n",
       "      <th>6</th>\n",
       "      <td>MajorUndergrad_Computer programming or Web dev...</td>\n",
       "      <td>-7924.875650</td>\n",
       "    </tr>\n",
       "    <tr>\n",
       "      <th>11</th>\n",
       "      <td>FormalEducation_Some college/university study ...</td>\n",
       "      <td>-8349.796059</td>\n",
       "    </tr>\n",
       "    <tr>\n",
       "      <th>1</th>\n",
       "      <td>Race_Hispanic or Latino/Latina</td>\n",
       "      <td>-9217.183708</td>\n",
       "    </tr>\n",
       "  </tbody>\n",
       "</table>\n",
       "</div>"
      ],
      "text/plain": [
       "                                              est_int         coefs\n",
       "23                     YearsCodedJob_20 or more years  53064.638609\n",
       "19                       YearsCodedJob_17 to 18 years  50626.325660\n",
       "21                       YearsCodedJob_19 to 20 years  49081.544962\n",
       "16                       YearsCodedJob_14 to 15 years  44779.675677\n",
       "12                       YearsCodedJob_10 to 11 years  41842.934138\n",
       "14                       YearsCodedJob_12 to 13 years  39985.807276\n",
       "13                       YearsCodedJob_11 to 12 years  39609.121013\n",
       "18                       YearsCodedJob_16 to 17 years  39195.012798\n",
       "17                       YearsCodedJob_15 to 16 years  36731.941293\n",
       "15                       YearsCodedJob_13 to 14 years  35562.749868\n",
       "40                 CompanyType_Venture-funded startup  34455.747723\n",
       "20                       YearsCodedJob_18 to 19 years  34170.728218\n",
       "29                         YearsCodedJob_8 to 9 years  31817.894873\n",
       "28                         YearsCodedJob_7 to 8 years  26308.383506\n",
       "37            CompanyType_Publicly-traded corporation  25922.980360\n",
       "27                         YearsCodedJob_6 to 7 years  25181.910157\n",
       "30                        YearsCodedJob_9 to 10 years  24100.501926\n",
       "26                         YearsCodedJob_5 to 6 years  23270.217403\n",
       "9                     FormalEducation_Doctoral degree  19871.928670\n",
       "33                 CompanyType_I prefer not to answer  16584.514303\n",
       "36  CompanyType_Privately-held limited company, no...  13801.128644\n",
       "35                   CompanyType_Pre-series A startup  13402.989915\n",
       "25                         YearsCodedJob_4 to 5 years  13126.991394\n",
       "39                         CompanyType_Something else  12954.925376\n",
       "10                    FormalEducation_Master's degree   7784.656293\n",
       "38  CompanyType_Sole proprietorship or partnership...   7543.178878\n",
       "24                         YearsCodedJob_3 to 4 years   7408.659851\n",
       "32                           CompanyType_I don't know   6324.356922\n",
       "8            MajorUndergrad_Mathematics or statistics   5418.448880\n",
       "0                                     Race_East Asian   4819.536662\n",
       "5   MajorUndergrad_Computer engineering or electri...   4561.764069\n",
       "7   MajorUndergrad_Computer science or software en...   3971.380869\n",
       "34  CompanyType_Non-profit/non-governmental organi...   3027.803636\n",
       "22                         YearsCodedJob_2 to 3 years   1580.414926\n",
       "4                                         Gender_Male    845.859930\n",
       "2                                    Race_South Asian    681.848046\n",
       "31                     YearsCodedJob_Less than a year  -4574.750154\n",
       "3                   Race_White or of European descent  -6273.041425\n",
       "6   MajorUndergrad_Computer programming or Web dev...  -7924.875650\n",
       "11  FormalEducation_Some college/university study ...  -8349.796059\n",
       "1                      Race_Hispanic or Latino/Latina  -9217.183708"
      ]
     },
     "execution_count": 17,
     "metadata": {},
     "output_type": "execute_result"
    }
   ],
   "source": [
    "#Use the function\n",
    "coef_df = coef_weights(lm_model.coef_, X_train)\n",
    "\n",
    "#A quick look at the top results\n",
    "coef_df.head(60)"
   ]
  },
  {
   "cell_type": "code",
   "execution_count": 18,
   "metadata": {},
   "outputs": [
    {
     "name": "stdout",
     "output_type": "stream",
     "text": [
      "United Kingdom: 4.040404040404041\n",
      "United States: 2.3274266067177996\n",
      "Israel: 0.0\n",
      "Croatia: 4.3478260869565215\n",
      "Argentina: 0.0\n",
      "Germany: 3.2193158953722336\n",
      "Brazil: 0.8438818565400843\n",
      "Italy: 1.9900497512437811\n",
      "India: 0.24360535931790497\n",
      "Netherlands: 4.62962962962963\n",
      "Poland: 0.9463722397476341\n",
      "Spain: 1.4388489208633095\n",
      "France: 6.289308176100629\n",
      "Turkey: 2.898550724637681\n",
      "Mexico: 1.0416666666666665\n",
      "Estonia: 0.0\n",
      "Finland: 6.024096385542169\n",
      "Denmark: 4.444444444444445\n",
      "Lithuania: 0.0\n",
      "Sweden: 3.076923076923077\n",
      "Ukraine: 2.7777777777777777\n",
      "Russian Federation: 1.5151515151515151\n",
      "Canada: 1.4992503748125936\n",
      "Uruguay: 0.0\n",
      "Greece: 1.6666666666666667\n",
      "Costa Rica: 0.0\n",
      "Iran: 0.0\n",
      "Slovenia: 0.0\n",
      "El Salvador: 0.0\n",
      "Portugal: 0.0\n",
      "Switzerland: 4.666666666666667\n",
      "Albania: 0.0\n",
      "Austria: 0.0\n",
      "Romania: 0.8264462809917356\n",
      "Australia: 1.5625\n",
      "Japan: 0.0\n",
      "Belgium: 1.0526315789473684\n",
      "Vietnam: 0.0\n",
      "Norway: 0.0\n",
      "Saudi Arabia: 0.0\n",
      "Colombia: 0.0\n",
      "Bulgaria: 0.0\n",
      "Pakistan: 0.0\n",
      "Serbia: 0.0\n",
      "Czech Republic: 2.5974025974025974\n",
      "Macedonia: 0.0\n",
      "New Zealand: 4.10958904109589\n",
      "Nigeria: 0.0\n",
      "Hungary: 1.2345679012345678\n",
      "Ireland: 2.1052631578947367\n",
      "Singapore: 0.0\n",
      "I prefer not to say: 0.0\n",
      "Chile: 0.0\n",
      "Indonesia: 0.0\n",
      "Philippines: 0.0\n",
      "Nepal: 0.0\n",
      "Malaysia: 0.0\n",
      "China: 2.3255813953488373\n",
      "Myanmar: 0.0\n",
      "Georgia: 0.0\n",
      "South Africa: 0.0\n",
      "Afghanistan: 0.0\n",
      "Sri Lanka: 0.0\n",
      "Liechtenstein: 0.0\n",
      "South Korea: 4.545454545454546\n",
      "Latvia: 3.3333333333333335\n",
      "Hong Kong: 0.0\n",
      "Armenia: 0.0\n",
      "Belarus: 0.0\n",
      "Slovak Republic: 0.0\n",
      "Moldavia: 0.0\n",
      "Lebanon: 0.0\n",
      "Luxembourg: 0.0\n",
      "United Arab Emirates: 0.0\n",
      "Panama: 0.0\n",
      "Morocco: 0.0\n",
      "Azerbaidjan: 0.0\n",
      "Paraguay: 0.0\n",
      "Ecuador: 0.0\n",
      "Thailand: 0.0\n",
      "Venezuela: 9.090909090909092\n",
      "Trinidad and Tobago: 0.0\n",
      "Mauritius: 0.0\n",
      "North Korea: 0.0\n",
      "Bosnia-Herzegovina: 0.0\n",
      "Bangladesh: 7.6923076923076925\n",
      "Jamaica: 0.0\n",
      "Kuwait: 0.0\n",
      "Bermuda: 0.0\n",
      "Dominican Republic: 0.0\n",
      "Egypt: 0.0\n",
      "Peru: 14.285714285714285\n",
      "Lesotho: 0.0\n",
      "Zimbabwe: 0.0\n",
      "Malta: 0.0\n",
      "Cyprus: 0.0\n",
      "Nicaragua: 0.0\n",
      "Jordan: 0.0\n",
      "Honduras: 0.0\n",
      "Iraq: 0.0\n",
      "Tunisia: 0.0\n",
      "Mongolia: 0.0\n",
      "Kyrgyzstan: 0.0\n",
      "Puerto Rico: 0.0\n",
      "New Caledonia (French): 0.0\n",
      "Zaire: 0.0\n",
      "Ghana: 0.0\n",
      "Bolivia: 0.0\n",
      "Taiwan: 0.0\n",
      "Bahrain: 0.0\n",
      "Seychelles: 0.0\n",
      "Guinea: 0.0\n",
      "Mozambique: 0.0\n",
      "Reunion (French): 0.0\n",
      "Montenegro: 0.0\n",
      "Guam: 0.0\n",
      "Kazakhstan: 0.0\n",
      "Barbados: 0.0\n",
      "Anguilla: 0.0\n",
      "Qatar: 0.0\n",
      "Madagascar: 0.0\n",
      "Syria: 0.0\n",
      "Guatemala: 0.0\n",
      "Cambodia: 0.0\n",
      "Uzbekistan: 0.0\n",
      "Martinique (French): 0.0\n",
      "Yemen: 0.0\n",
      "Virgin Islands (USA): 0.0\n",
      "Suriname: 0.0\n",
      "Cayman Islands: 0.0\n",
      "Botswana: 0.0\n",
      "Iceland: 0.0\n",
      "Uganda: 0.0\n",
      "U.S. Minor Outlying Islands: 0.0\n",
      "Tanzania: 0.0\n",
      "Cuba: 0.0\n"
     ]
    }
   ],
   "source": [
    "# Percentage of country choosing to do a PHD:\n",
    "\n",
    "for country in df_blog[\"Country\"].unique():\n",
    "    \n",
    "    df_country = df_blog[df_blog[\"Country\"]==country]\n",
    "    doc_num = df_country[df_country[\"FormalEducation\"] == \"Doctoral degree\"].shape[0]\n",
    "    total_num = df_country.shape[0]\n",
    "    print(country + \": \" + str(doc_num/ total_num*100))\n",
    "    \n",
    "\n"
   ]
  },
  {
   "cell_type": "code",
   "execution_count": null,
   "metadata": {},
   "outputs": [],
   "source": []
  }
 ],
 "metadata": {
  "kernelspec": {
   "display_name": "Python 3",
   "language": "python",
   "name": "python3"
  },
  "language_info": {
   "codemirror_mode": {
    "name": "ipython",
    "version": 3
   },
   "file_extension": ".py",
   "mimetype": "text/x-python",
   "name": "python",
   "nbconvert_exporter": "python",
   "pygments_lexer": "ipython3",
   "version": "3.7.5"
  }
 },
 "nbformat": 4,
 "nbformat_minor": 2
}
